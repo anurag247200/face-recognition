{
 "cells": [
  {
   "cell_type": "code",
   "execution_count": 6,
   "id": "9f127806-5a70-4798-8dc5-583c8729b758",
   "metadata": {},
   "outputs": [],
   "source": [
    "import os\n",
    "import cv2\n",
    "import numpy as np"
   ]
  },
  {
   "cell_type": "code",
   "execution_count": 7,
   "id": "624a8b77-db1f-4316-be29-b6ac958f2308",
   "metadata": {},
   "outputs": [],
   "source": [
    "def load_dataset(dataset_path, img_size=(100, 100)):\n",
    "    faces = []\n",
    "    labels = []\n",
    "    label_map = {}  # Mapping between label number and person name\n",
    "    current_label = 0\n",
    "\n",
    "    for person_name in os.listdir(dataset_path):\n",
    "        person_path = os.path.join(dataset_path, person_name)\n",
    "        if not os.path.isdir(person_path):\n",
    "            continue\n",
    "\n",
    "        label_map[current_label] = person_name\n",
    "        for image_name in os.listdir(person_path):\n",
    "            image_path = os.path.join(person_path, image_name)\n",
    "            img = cv2.imread(image_path, cv2.IMREAD_GRAYSCALE)\n",
    "            if img is None:\n",
    "                continue  # Skip any image that cannot be loaded\n",
    "            img_resized = cv2.resize(img, img_size)  # Resize image\n",
    "            faces.append(img_resized)\n",
    "            labels.append(current_label)\n",
    "\n",
    "        current_label += 1\n",
    "\n",
    "    return faces, labels, label_map\n"
   ]
  },
  {
   "cell_type": "code",
   "execution_count": 8,
   "id": "35711057-063b-491e-998a-ea6fb803eee0",
   "metadata": {},
   "outputs": [],
   "source": [
    "# Load dataset\n",
    "dataset_path = 'dataset/'\n",
    "faces, labels, label_map = load_dataset(dataset_path)\n",
    "\n",
    "# Convert lists to numpy arrays\n",
    "faces = np.array(faces)\n",
    "labels = np.array(labels)\n"
   ]
  },
  {
   "cell_type": "code",
   "execution_count": 9,
   "id": "0422b38a-d8c9-4bc3-b805-9b936e27fa31",
   "metadata": {},
   "outputs": [],
   "source": [
    "# Initialize the recognizer\n",
    "face_recognizer = cv2.face.LBPHFaceRecognizer_create()\n",
    "\n",
    "# Train the recognizer with the dataset\n",
    "face_recognizer.train(faces, labels)\n"
   ]
  },
  {
   "cell_type": "code",
   "execution_count": 10,
   "id": "b1547de1-b6e0-43fe-9623-6478034aa629",
   "metadata": {},
   "outputs": [],
   "source": [
    "# Load the face detector (Haar Cascades)\n",
    "face_cascade = cv2.CascadeClassifier(cv2.data.haarcascades + 'haarcascade_frontalface_default.xml')\n",
    "\n",
    "# Start video capture\n",
    "cap = cv2.VideoCapture(0)\n",
    "\n",
    "while True:\n",
    "    # Capture frame-by-frame\n",
    "    ret, frame = cap.read()\n",
    "    gray = cv2.cvtColor(frame, cv2.COLOR_BGR2GRAY)\n",
    "\n",
    "    # Detect faces in the frame\n",
    "    faces_detected = face_cascade.detectMultiScale(gray, scaleFactor=1.1, minNeighbors=5, minSize=(30, 30))\n",
    "\n",
    "    # Recognize faces\n",
    "    for (x, y, w, h) in faces_detected:\n",
    "        roi_gray = gray[y:y+h, x:x+w]\n",
    "        label, confidence = face_recognizer.predict(roi_gray)\n",
    "\n",
    "        # Display the name and confidence\n",
    "        name = label_map[label]\n",
    "        cv2.putText(frame, f'{name} ({confidence:.2f})', (x, y-10), cv2.FONT_HERSHEY_SIMPLEX, 0.9, (255, 255, 255), 2)\n",
    "        cv2.rectangle(frame, (x, y), (x+w, y+h), (255, 0, 0), 2)\n",
    "\n",
    "    # Display the resulting frame\n",
    "    cv2.imshow('Face Recognition', frame)\n",
    "\n",
    "    # Break the loop on 'q' key press\n",
    "    if cv2.waitKey(1) & 0xFF == ord('q'):\n",
    "        break\n",
    "\n",
    "# Release the capture and close windows\n",
    "cap.release()\n",
    "cv2.destroyAllWindows()\n"
   ]
  }
 ],
 "metadata": {
  "kernelspec": {
   "display_name": "Python 3 (ipykernel)",
   "language": "python",
   "name": "python3"
  },
  "language_info": {
   "codemirror_mode": {
    "name": "ipython",
    "version": 3
   },
   "file_extension": ".py",
   "mimetype": "text/x-python",
   "name": "python",
   "nbconvert_exporter": "python",
   "pygments_lexer": "ipython3",
   "version": "3.11.4"
  }
 },
 "nbformat": 4,
 "nbformat_minor": 5
}
